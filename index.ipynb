{
 "cells": [
  {
   "cell_type": "code",
   "execution_count": 13,
   "metadata": {},
   "outputs": [
    {
     "data": {
      "text/html": [
       "<style>.container { width:75% !important; }</style>\n",
       "<link rel='stylesheet' type='text/css' href='static/css_backup/mobile-package-094623.css'>\n",
       "<link rel='stylesheet' type='text/css' href='static/css_backup/homepage-package-3bd234.css'>\n",
       "        \n",
       "<body>\n",
       "  <article id=\"homepage\">\n",
       "    <a id=\"library-section\"></a>\n",
       "    <div class=\"library-section\">\n",
       "      <div class=\"section-separator library-section-separator\">\n",
       "        <h1>Machine Learning</h1>\n",
       "        <!--<center><img src=\"static/images/logoNipype_tutorial.png\" width=700></center>-->\n",
       "        <p>Welcome to the Machine Learning T