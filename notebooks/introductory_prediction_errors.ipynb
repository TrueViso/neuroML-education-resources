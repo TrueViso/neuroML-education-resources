{
 "cells": [
  {
   "cell_type": "markdown",
   "metadata": {},
   "source": [
    "# Prediction error, cross-validation, and significance testing"
   ]
  },
  {
   "cell_type": "markdown",
   "metadata": {},
   "source": [
    "In the previous notebook we showed a few different models. We should have a way to evaluate our models and possibly  to choose the best one. \n",
    "\n",
    "Let's explore the topic of model validation and understanding various errors for regression models. We will start from creating a new dataset:"
   ]
  },
  {
   "cell_type": "code",
   "execution_count": 1,
   "metadata": {},
   "outputs": [
    {
     "data": {
      "text/plain": [
       "<matplotlib.collections.PathCollection at 0x7fa2d0dd4be0>"
      ]
     },
     "execution_count": 1,
     "metadata": {},
     "output_type": "execute_result"
    },
    {
     "data": {
      "image/png": "iVBORw0KGgoAAAANSUhEUgAAAXYAAAD8CAYAAABjAo9vAAAABHNCSVQICAgIfAhkiAAAAAlwSFlz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\nPWrSVPU958mJ1+V