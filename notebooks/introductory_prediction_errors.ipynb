{
 "cells": [
  {
   "cell_type": "markdown",
   "metadata": {},
   "source": [
    "# Prediction error, cross-validation, and significance testing"
   ]
  },
  {
   "cell_type": "markdown",
   "metadata": {},
   "source": [
    "In the previous notebook we showed a few different models. We should have a way to evaluate our models and possibly  to choose the best one. \n",
    "\n",
    "Let's explore the topic of model validation and understanding various errors for regression models. We will start from creating a new dataset:"
   ]
  },
  {
   "cell_type": "code",
   "execution_count": 1,
   "metadata": {},
   "outputs": [
    {
     "data": {
      "text/plain": [
       "<matplotlib.collections.PathCollection at 0x7fa2d0dd4be0>"
      ]
     },
     "execution_count": 1,
     "metadata": {},
     "output_type": "execute_result"
    },
    {
     "data": {
      "image/png": "iVBORw0KGgoAAAANSUhEUgAAAXYAAAD8CAYAAABjAo9vAAAABHNCSVQICAgIfAhkiAAAAAlwSFlz\nAAALEgAACxIB0t1+/AAAGS5JREFUeJzt3X+wHWV9x/HPlyTIRdGL5dqaCzHYYpBCJXrHUjOjAk5D\nwUoGUWDU4sg0o22topNOGJ2xtrVmmvFHO3VqGWu1lWIQaESxjT8CY8sI9cYbDYhpUQRyoSWOhHbM\nldwk3/5xzwn3x+45u2efsz+efb9mMjn33D27z57d+91nv8+PNXcXACAex1VdAABAWAR2AIgMgR0A\nIkNgB4DIENgBIDIEdgCIDIEdACJDYAeAyBDYASAyy6vY6CmnnOKrV6+uYtMA0Fi7du36ibuP9Vuu\nksC+evVqTU5OVrFpAGgsM3soy3KkYgAgMgR2AIgMgR0AIkNgB4DIENgBIDKV9IoBgCpsn5rW1h17\n9eiBGa0cHdGm9Wu0Ye141cUKjsAOoBW2T03rulv3aGb2iCRp+sCMrrt1jyRFF9xJxQBoha079h4L\n6l0zs0e0dcfeiko0PAR2AK3w6IGZXO83GYEdQCusHB3J9X6TEdgBtMKm9Ws0smLZgvdGVizTpvVr\nKirR8NB4CqAVug2k9IoBgIhsWDseZSBfjF