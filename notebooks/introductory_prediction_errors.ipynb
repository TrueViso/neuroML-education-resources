{
 "cells": [
  {
   "cell_type": "markdown",
   "metadata": {},
   "source": [
    "# Prediction error, cross-validation, and significance testing"
   ]
  },
  {
   "cell_type": "markdown",
   "metadata": {},
   "source": [
    "In the previous notebook we showed a few different models. We should have a way to evaluate our models and possibly  to choose the best one. \n",
    "\n",
    "Let's explore the topic of model validation and understanding various errors for regression models. We will start from creating a new dataset:"
   ]
  },
  {
   "cell_type": "code",
   "execution_count": 1,
   "metadata": {},
   "outputs": [
    {
     "data": {
      "text/plain": [
       "<matplotlib.collections.PathCollection at 0x7fa2d0dd4be0>"
      ]
     },
     "execution_count": 1,
     "metadata": {},
     "output_type": "execute_result"
    },
    {
     "data": {
      "image/png": "iVBORw0KGgoAAAANSUhEUgAAAXYAAAD8CAYAAABjAo9vAAAABHNCSVQICAgIfAhkiAAAAAlwSFlz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\nkSGwA0BkCOwAEBkCOwBEhsAOAJH5f7hpW9ByVnEEAAAAAElFTkSuQmCC\n",
      "text/plain": [
       "<matplotlib.figure.Figure at 0x7fa2fc027940>"
      ]
     },
     "metadata": {},
     "output_type": "display_data"
    }
   ],
   "source": [
    "%matplotlib inline\n",
    "import matplotlib.pyplot as plt\n",
    "import numpy as np\n",
    "\n",
    "def make_data(N=90, error=1.0, random_seed=None):\n",
    "    def test_func(x, err=0.5):\n",
    "        y = 10 - 1. / (x + 0.1)\n",
    "        if err > 0:\n",
    "            y = np.random.normal(y, err)\n",
    "        return y\n",
    "\n",
    "    # randomly sample the data\n",
    "    np.random.seed(1)\n",
    "    X = np.random.random(N)[:, np.newaxis]\n",
    "    y = test_func(X.ravel(), error)\n",
    "    \n",
    "    return X, y\n",
    "\n",
    "X, y = make_data(random_seed=1)\n",
    "plt.scatter(X.ravel(), y)"
   ]
  },
  {
   "cell_type": "markdown",
   "metadata": {},
   "source": [
    "This time, let's divide our data to two sets that we will call training and testing sets, and build a simple linear regression model using training data only:"
   ]
  },
  {
   "cell_type": "code",
   "execution_count": 2,
   "metadata": {},
   "outputs": [
    {
     "data": {
      "text/plain": [
       "LinearRegression(copy_X=True, fit_intercept=True, n_jobs=1, normalize=False)"
      ]
     },
     "execution_count": 2,
     "metadata": {},
     "output_type": "execute_result"
    }
   ],
   "source": [
    "from sklearn.model_selection import train_test_split\n",
    "from sklearn.linear_model import LinearRegression\n",
    "\n",
    "X_train, X_test, y_train, y_test = train_test_split(X, y, random_state=7)\n",
    "\n",
    "regr = LinearRegression()\n",
    "regr.fit(X_train, y_train)"
   ]
  },
  {
   "cell_type": "markdown",
   "metadata": {},
   "source": [
    "Let's plot the results. We will also calculate the model score. The score is a function of mean square error, but defined in a way that gives 1 (or -1) for the best possible model and 0 if there is no linear relation, full definition you can find [here](http://scikit-learn.org/stable/modules/generated/sklearn.linear_model.LinearRegression.html#sklearn.linear_model.LinearRegression.score)."
   ]
  },
  {
   "cell_type": "code",
   "execution_count": 3,
   "metadata": {},
   "outputs": [
    {
     "data": {
      "image/png": "iVBORw0KGgoAAAANSUhEUgAAAYIAAAEWCAYAAABrDZDcAAAABHNCSVQICAgIfAhkiAAAAAlwSFlz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